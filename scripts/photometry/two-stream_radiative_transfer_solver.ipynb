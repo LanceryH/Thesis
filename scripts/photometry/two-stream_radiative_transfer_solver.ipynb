{
 "cells": [
  {
   "cell_type": "markdown",
   "id": "29b5ff22",
   "metadata": {},
   "source": [
    "## Two-Stream Radiative Transfer Solver\n",
    "**Objective**: Solve the two-stream equations for an optically thick layer.\n",
    "\n",
    "**Key Equations**:\n",
    "\n",
    "$-\\frac{1}{2} \\frac{dI_1}{d\\tau} = -I_1 + \\frac{\\omega}{2} [(1+\\beta) I_1 + (1-\\beta) I_2]$\n",
    "\n",
    "$\\frac{1}{2} \\frac{dI_2}{d\\tau} = -I_2 + \\frac{\\omega}{2} [(1-\\beta) I_1 + (1+\\beta) I_2]$\n",
    "\n",
    "( $\\tau$ ) : Profondeur optique (0 = surface, τ0τ0​ = base)\n",
    "\n",
    "( $\\omega$ ) : Albédo de diffusion simple\n",
    "\n",
    "( $\\beta$ ) : Fraction de rétrodiffusion\n",
    "\n",
    "**Boundary Conditions**:\n",
    "- At $ \\tau = 0 $: $ I_2(0) = (1-S_e)I_0 + S_i I_1(0) $\n",
    "- At $ \\tau = \\tau_0 $: $ I_1(\\tau_0) = S_{ib} I_2(\\tau_0) $\n",
    "\n",
    "**Tasks**:\n",
    "1. Implement the two-stream equations\n",
    "2. Solve numerically using finite differences or ODE solver\n",
    "3. Plot $ I_1(\\tau) $ and $ I_2(\\tau) $\n",
    "\n",
    "**Challenge**: Add wavelength-dependent absorption $ \\kappa(\\lambda) $"
   ]
  },
  {
   "cell_type": "code",
   "execution_count": null,
   "id": "2907754f",
   "metadata": {},
   "outputs": [
    {
     "ename": "TypeError",
     "evalue": "two_stream() missing 6 required positional arguments: 'I', 'omega', 'beta', 'S_e', 'S_i', and 'I0'",
     "output_type": "error",
     "traceback": [
      "\u001b[0;31m---------------------------------------------------------------------------\u001b[0m",
      "\u001b[0;31mTypeError\u001b[0m                                 Traceback (most recent call last)",
      "Cell \u001b[0;32mIn[11], line 34\u001b[0m\n\u001b[1;32m     32\u001b[0m \u001b[38;5;66;03m# 4. Résolution numérique (méthode robuste)\u001b[39;00m\n\u001b[1;32m     33\u001b[0m I1_0_initial_guess \u001b[38;5;241m=\u001b[39m \u001b[38;5;241m0.5\u001b[39m  \u001b[38;5;66;03m# Valeur initiale raisonnable\u001b[39;00m\n\u001b[0;32m---> 34\u001b[0m I1_0_solution \u001b[38;5;241m=\u001b[39m \u001b[43mfsolve\u001b[49m\u001b[43m(\u001b[49m\u001b[43mtwo_stream\u001b[49m\u001b[43m,\u001b[49m\u001b[43m \u001b[49m\u001b[38;5;241;43m0.5\u001b[39;49m\u001b[43m)\u001b[49m[\u001b[38;5;241m0\u001b[39m]\n\u001b[1;32m     36\u001b[0m \u001b[38;5;66;03m# 5. Intégration finale avec la bonne condition initiale\u001b[39;00m\n\u001b[1;32m     37\u001b[0m final_solution \u001b[38;5;241m=\u001b[39m solve_ivp(two_stream, [\u001b[38;5;241m0\u001b[39m, tau_max],\n\u001b[1;32m     38\u001b[0m                           np\u001b[38;5;241m.\u001b[39marray([I1_0_solution, (\u001b[38;5;241m1\u001b[39m\u001b[38;5;241m-\u001b[39mS_e)\u001b[38;5;241m*\u001b[39mI0 \u001b[38;5;241m+\u001b[39m S_i\u001b[38;5;241m*\u001b[39mI1_0_solution]),\n\u001b[1;32m     39\u001b[0m                           args\u001b[38;5;241m=\u001b[39m(omega, beta, S_e, S_i, I0),\n\u001b[1;32m     40\u001b[0m                           t_eval\u001b[38;5;241m=\u001b[39mnp\u001b[38;5;241m.\u001b[39mlinspace(\u001b[38;5;241m0\u001b[39m, tau_max, \u001b[38;5;241m100\u001b[39m))\n",
      "File \u001b[0;32m/workspaces/thesis/.venv/lib/python3.10/site-packages/scipy/optimize/_minpack_py.py:170\u001b[0m, in \u001b[0;36mfsolve\u001b[0;34m(func, x0, args, fprime, full_output, col_deriv, xtol, maxfev, band, epsfcn, factor, diag)\u001b[0m\n\u001b[1;32m    160\u001b[0m _wrapped_func\u001b[38;5;241m.\u001b[39mnfev \u001b[38;5;241m=\u001b[39m \u001b[38;5;241m0\u001b[39m\n\u001b[1;32m    162\u001b[0m options \u001b[38;5;241m=\u001b[39m {\u001b[38;5;124m'\u001b[39m\u001b[38;5;124mcol_deriv\u001b[39m\u001b[38;5;124m'\u001b[39m: col_deriv,\n\u001b[1;32m    163\u001b[0m            \u001b[38;5;124m'\u001b[39m\u001b[38;5;124mxtol\u001b[39m\u001b[38;5;124m'\u001b[39m: xtol,\n\u001b[1;32m    164\u001b[0m            \u001b[38;5;124m'\u001b[39m\u001b[38;5;124mmaxfev\u001b[39m\u001b[38;5;124m'\u001b[39m: maxfev,\n\u001b[0;32m   (...)\u001b[0m\n\u001b[1;32m    167\u001b[0m            \u001b[38;5;124m'\u001b[39m\u001b[38;5;124mfactor\u001b[39m\u001b[38;5;124m'\u001b[39m: factor,\n\u001b[1;32m    168\u001b[0m            \u001b[38;5;124m'\u001b[39m\u001b[38;5;124mdiag\u001b[39m\u001b[38;5;124m'\u001b[39m: diag}\n\u001b[0;32m--> 170\u001b[0m res \u001b[38;5;241m=\u001b[39m \u001b[43m_root_hybr\u001b[49m\u001b[43m(\u001b[49m\u001b[43m_wrapped_func\u001b[49m\u001b[43m,\u001b[49m\u001b[43m \u001b[49m\u001b[43mx0\u001b[49m\u001b[43m,\u001b[49m\u001b[43m \u001b[49m\u001b[43margs\u001b[49m\u001b[43m,\u001b[49m\u001b[43m \u001b[49m\u001b[43mjac\u001b[49m\u001b[38;5;241;43m=\u001b[39;49m\u001b[43mfprime\u001b[49m\u001b[43m,\u001b[49m\u001b[43m \u001b[49m\u001b[38;5;241;43m*\u001b[39;49m\u001b[38;5;241;43m*\u001b[39;49m\u001b[43moptions\u001b[49m\u001b[43m)\u001b[49m\n\u001b[1;32m    171\u001b[0m res\u001b[38;5;241m.\u001b[39mnfev \u001b[38;5;241m=\u001b[39m _wrapped_func\u001b[38;5;241m.\u001b[39mnfev\n\u001b[1;32m    173\u001b[0m \u001b[38;5;28;01mif\u001b[39;00m full_output:\n",
      "File \u001b[0;32m/workspaces/thesis/.venv/lib/python3.10/site-packages/scipy/optimize/_minpack_py.py:238\u001b[0m, in \u001b[0;36m_root_hybr\u001b[0;34m(func, x0, args, jac, col_deriv, xtol, maxfev, band, eps, factor, diag, **unknown_options)\u001b[0m\n\u001b[1;32m    236\u001b[0m \u001b[38;5;28;01mif\u001b[39;00m \u001b[38;5;129;01mnot\u001b[39;00m \u001b[38;5;28misinstance\u001b[39m(args, \u001b[38;5;28mtuple\u001b[39m):\n\u001b[1;32m    237\u001b[0m     args \u001b[38;5;241m=\u001b[39m (args,)\n\u001b[0;32m--> 238\u001b[0m shape, dtype \u001b[38;5;241m=\u001b[39m \u001b[43m_check_func\u001b[49m\u001b[43m(\u001b[49m\u001b[38;5;124;43m'\u001b[39;49m\u001b[38;5;124;43mfsolve\u001b[39;49m\u001b[38;5;124;43m'\u001b[39;49m\u001b[43m,\u001b[49m\u001b[43m \u001b[49m\u001b[38;5;124;43m'\u001b[39;49m\u001b[38;5;124;43mfunc\u001b[39;49m\u001b[38;5;124;43m'\u001b[39;49m\u001b[43m,\u001b[49m\u001b[43m \u001b[49m\u001b[43mfunc\u001b[49m\u001b[43m,\u001b[49m\u001b[43m \u001b[49m\u001b[43mx0\u001b[49m\u001b[43m,\u001b[49m\u001b[43m \u001b[49m\u001b[43margs\u001b[49m\u001b[43m,\u001b[49m\u001b[43m \u001b[49m\u001b[43mn\u001b[49m\u001b[43m,\u001b[49m\u001b[43m \u001b[49m\u001b[43m(\u001b[49m\u001b[43mn\u001b[49m\u001b[43m,\u001b[49m\u001b[43m)\u001b[49m\u001b[43m)\u001b[49m\n\u001b[1;32m    239\u001b[0m \u001b[38;5;28;01mif\u001b[39;00m epsfcn \u001b[38;5;129;01mis\u001b[39;00m \u001b[38;5;28;01mNone\u001b[39;00m:\n\u001b[1;32m    240\u001b[0m     epsfcn \u001b[38;5;241m=\u001b[39m finfo(dtype)\u001b[38;5;241m.\u001b[39meps\n",
      "File \u001b[0;32m/workspaces/thesis/.venv/lib/python3.10/site-packages/scipy/optimize/_minpack_py.py:23\u001b[0m, in \u001b[0;36m_check_func\u001b[0;34m(checker, argname, thefunc, x0, args, numinputs, output_shape)\u001b[0m\n\u001b[1;32m     21\u001b[0m \u001b[38;5;28;01mdef\u001b[39;00m\u001b[38;5;250m \u001b[39m\u001b[38;5;21m_check_func\u001b[39m(checker, argname, thefunc, x0, args, numinputs,\n\u001b[1;32m     22\u001b[0m                 output_shape\u001b[38;5;241m=\u001b[39m\u001b[38;5;28;01mNone\u001b[39;00m):\n\u001b[0;32m---> 23\u001b[0m     res \u001b[38;5;241m=\u001b[39m atleast_1d(\u001b[43mthefunc\u001b[49m\u001b[43m(\u001b[49m\u001b[38;5;241;43m*\u001b[39;49m\u001b[43m(\u001b[49m\u001b[43m(\u001b[49m\u001b[43mx0\u001b[49m\u001b[43m[\u001b[49m\u001b[43m:\u001b[49m\u001b[43mnuminputs\u001b[49m\u001b[43m]\u001b[49m\u001b[43m,\u001b[49m\u001b[43m)\u001b[49m\u001b[43m \u001b[49m\u001b[38;5;241;43m+\u001b[39;49m\u001b[43m \u001b[49m\u001b[43margs\u001b[49m\u001b[43m)\u001b[49m\u001b[43m)\u001b[49m)\n\u001b[1;32m     24\u001b[0m     \u001b[38;5;28;01mif\u001b[39;00m (output_shape \u001b[38;5;129;01mis\u001b[39;00m \u001b[38;5;129;01mnot\u001b[39;00m \u001b[38;5;28;01mNone\u001b[39;00m) \u001b[38;5;129;01mand\u001b[39;00m (shape(res) \u001b[38;5;241m!=\u001b[39m output_shape):\n\u001b[1;32m     25\u001b[0m         \u001b[38;5;28;01mif\u001b[39;00m (output_shape[\u001b[38;5;241m0\u001b[39m] \u001b[38;5;241m!=\u001b[39m \u001b[38;5;241m1\u001b[39m):\n",
      "File \u001b[0;32m/workspaces/thesis/.venv/lib/python3.10/site-packages/scipy/optimize/_minpack_py.py:158\u001b[0m, in \u001b[0;36mfsolve.<locals>._wrapped_func\u001b[0;34m(*fargs)\u001b[0m\n\u001b[1;32m    153\u001b[0m \u001b[38;5;250m\u001b[39m\u001b[38;5;124;03m\"\"\"\u001b[39;00m\n\u001b[1;32m    154\u001b[0m \u001b[38;5;124;03mWrapped `func` to track the number of times\u001b[39;00m\n\u001b[1;32m    155\u001b[0m \u001b[38;5;124;03mthe function has been called.\u001b[39;00m\n\u001b[1;32m    156\u001b[0m \u001b[38;5;124;03m\"\"\"\u001b[39;00m\n\u001b[1;32m    157\u001b[0m _wrapped_func\u001b[38;5;241m.\u001b[39mnfev \u001b[38;5;241m+\u001b[39m\u001b[38;5;241m=\u001b[39m \u001b[38;5;241m1\u001b[39m\n\u001b[0;32m--> 158\u001b[0m \u001b[38;5;28;01mreturn\u001b[39;00m \u001b[43mfunc\u001b[49m\u001b[43m(\u001b[49m\u001b[38;5;241;43m*\u001b[39;49m\u001b[43mfargs\u001b[49m\u001b[43m)\u001b[49m\n",
      "\u001b[0;31mTypeError\u001b[0m: two_stream() missing 6 required positional arguments: 'I', 'omega', 'beta', 'S_e', 'S_i', and 'I0'"
     ]
    }
   ],
   "source": [
    "from scipy.integrate import solve_ivp\n",
    "from scipy.optimize import fsolve\n",
    "import numpy as np\n",
    "import matplotlib.pyplot as plt\n",
    "\n",
    "# 1. Définition des équations two-stream (version corrigée)\n",
    "def two_stream(tau, I, omega, beta, S_e, S_i, I0):\n",
    "    I1, I2 = I  # I1: montante, I2: descendante\n",
    "    dI1dtau = 2 * I1 - omega * ((1+beta)*I1 + (1-beta)*I2)\n",
    "    dI2dtau = -2 * I2 + omega * ((1-beta)*I1 + (1+beta)*I2)\n",
    "    return [dI1dtau, dI2dtau]  # Conversion explicite en array numpy\n",
    "\n",
    "# 2. Paramètres physiques (slides 4-6)\n",
    "omega = 0.8     # Albédo de diffusion simple\n",
    "beta = 0.3      # Fraction de rétrodiffusion\n",
    "tau_max = 5     # Profondeur optique totale\n",
    "I0 = 1.0        # Flux incident normalisé\n",
    "S_e, S_i, S_ib = 0.1, 0.2, 0.1  # Coefficients de surface\n",
    "\n",
    "# 3. Fonction de condition aux limites (version stable)\n",
    "def boundary_condition(I1_guess):\n",
    "    # Solution initiale avec guess pour I1(0)\n",
    "    sol = solve_ivp(two_stream, [0, tau_max], \n",
    "                    np.array([I1_guess, (1-S_e)*I0 + S_i*I1_guess]),  # y0 doit être 1D\n",
    "                    args=(omega, beta, S_e, S_i, I0),\n",
    "                    dense_output=True)\n",
    "    \n",
    "    # Vérification condition à tau_max\n",
    "    I1_final, I2_final = sol.sol(tau_max)\n",
    "    return I1_final - S_ib * I2_final  # Doit retourner un scalaire!\n",
    "\n",
    "# 4. Résolution numérique (méthode robuste)\n",
    "I1_0_initial_guess = 0.5  # Valeur initiale raisonnable\n",
    "I1_0_solution = fsolve(boundary_condition, I1_0_initial_guess)[0]\n",
    "\n",
    "# 5. Intégration finale avec la bonne condition initiale\n",
    "final_solution = solve_ivp(two_stream, [0, tau_max],\n",
    "                          np.array([I1_0_solution, (1-S_e)*I0 + S_i*I1_0_solution]),\n",
    "                          args=(omega, beta, S_e, S_i, I0),\n",
    "                          t_eval=np.linspace(0, tau_max, 100))\n",
    "\n",
    "# 6. Visualisation professionnelle\n",
    "plt.figure(figsize=(10, 6))\n",
    "plt.plot(final_solution.t, final_solution.y[0], 'r-', lw=2, label='$I_1$ (flux montant)')\n",
    "plt.plot(final_solution.t, final_solution.y[1], 'b--', lw=2, label='$I_2$ (flux descendant)')\n",
    "plt.xlabel('Profondeur optique $\\\\tau$', fontsize=12)\n",
    "plt.ylabel('Intensité normalisée', fontsize=12)\n",
    "plt.title('Solution des équations two-stream\\n(Conditions aux limites: $S_e$=%.1f, $S_i$=%.1f, $S_{ib}$=%.1f)' \n",
    "          % (S_e, S_i, S_ib), pad=20)\n",
    "plt.legend(fontsize=10, framealpha=0.9)\n",
    "plt.grid(True, alpha=0.3)\n",
    "plt.show()"
   ]
  }
 ],
 "metadata": {
  "kernelspec": {
   "display_name": ".venv",
   "language": "python",
   "name": "python3"
  },
  "language_info": {
   "codemirror_mode": {
    "name": "ipython",
    "version": 3
   },
   "file_extension": ".py",
   "mimetype": "text/x-python",
   "name": "python",
   "nbconvert_exporter": "python",
   "pygments_lexer": "ipython3",
   "version": "3.10.17"
  }
 },
 "nbformat": 4,
 "nbformat_minor": 5
}
