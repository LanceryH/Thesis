{
 "cells": [
  {
   "cell_type": "markdown",
   "id": "9c7c0e9e",
   "metadata": {},
   "source": [
    "## Hapke Model Implementation\n",
    "**Objective**: Implement Hapke's bidirectional reflectance model.\n",
    "\n",
    "**Key Equation**:\n",
    "\n",
    "$r = \\frac{\\omega}{4\\pi} \\frac{\\mu_0}{\\mu_0 + \\mu} \\left[ (1 + B(g)) P(g) + H(\\mu_0) H(\\mu) - 1 \\right] S(\\theta_0, \\bar{\\theta}, g)$\n",
    "\n",
    "**Henyey-Greenstein Phase Function**:\n",
    "\n",
    "$P(g) = (1-c) \\frac{1-b^2}{(1 + 2b \\cos g + b^2)^{3/2}} + c \\frac{1-b^2}{(1 - 2b \\cos g + b^2)^{3/2}}$\n",
    "\n",
    "**Tasks**:\n",
    "1. Implement the full Hapke model\n",
    "2. Plot BRDF for varying incidence/emergence angles\n",
    "3. Include opposition effect $ B(g) $\n",
    "\n",
    "**Challenge**: Invert the model to retrieve parameters from synthetic data"
   ]
  },
  {
   "cell_type": "code",
   "execution_count": null,
   "id": "16aefe40",
   "metadata": {
    "vscode": {
     "languageId": "plaintext"
    }
   },
   "outputs": [],
   "source": []
  }
 ],
 "metadata": {
  "language_info": {
   "name": "python"
  }
 },
 "nbformat": 4,
 "nbformat_minor": 5
}
