{
 "cells": [
  {
   "cell_type": "markdown",
   "id": "15050a80",
   "metadata": {},
   "source": [
    "## Hyperspectral Data Analysis\n",
    "**Objective**: Process hyperspectral data cubes.\n",
    "\n",
    "**Tasks**:\n",
    "1. Simulate data cube (spatial x,y × spectral λ)\n",
    "2. Correct keystone/smile distortions\n",
    "3. Extract endmember spectra\n",
    "\n",
    "**Challenge**: Implement orthorectification"
   ]
  },
  {
   "cell_type": "code",
   "execution_count": null,
   "id": "467fa59a",
   "metadata": {
    "vscode": {
     "languageId": "plaintext"
    }
   },
   "outputs": [],
   "source": []
  }
 ],
 "metadata": {
  "language_info": {
   "name": "python"
  }
 },
 "nbformat": 4,
 "nbformat_minor": 5
}
