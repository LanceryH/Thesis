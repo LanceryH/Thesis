{
 "cells": [
  {
   "cell_type": "markdown",
   "id": "4df1fa80",
   "metadata": {},
   "source": [
    "## Spectroscopic Mixing Models\n",
    "**Objective**: Model intimate vs. areal mixing of materials.\n",
    "\n",
    "**Mixing Models**:\n",
    "- Linear (areal): $ R_{\\text{mix}} = f_1 R_1 + f_2 R_2 $\n",
    "- Intimate: Use Hapke's model for composite $ \\omega $\n",
    "\n",
    "**Tasks**:\n",
    "1. Implement both mixing models\n",
    "2. Plot spectra for mixtures (e.g., 10%, 50%, 90% ice in basalt)\n",
    "3. Compare with lab data\n",
    "\n",
    "**Challenge**: Extend to 3+ components"
   ]
  },
  {
   "cell_type": "code",
   "execution_count": null,
   "id": "445a70b0",
   "metadata": {
    "vscode": {
     "languageId": "plaintext"
    }
   },
   "outputs": [],
   "source": []
  }
 ],
 "metadata": {
  "language_info": {
   "name": "python"
  }
 },
 "nbformat": 4,
 "nbformat_minor": 5
}
