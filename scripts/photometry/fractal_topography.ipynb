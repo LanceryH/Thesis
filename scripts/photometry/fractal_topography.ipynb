{
 "cells": [
  {
   "cell_type": "code",
   "execution_count": 1,
   "id": "5fc59c61",
   "metadata": {},
   "outputs": [
    {
     "name": "stderr",
     "output_type": "stream",
     "text": [
      "qt.qpa.plugin: Could not find the Qt platform plugin \"wayland\" in \"\"\n"
     ]
    }
   ],
   "source": [
    "from scipy.ndimage import gaussian_filter\n",
    "import matplotlib.pyplot as plt\n",
    "import numpy as np\n",
    "import rupho as rp\n",
    "import pylab as pl\n",
    "%matplotlib qt"
   ]
  },
  {
   "cell_type": "code",
   "execution_count": 2,
   "id": "93620540",
   "metadata": {},
   "outputs": [],
   "source": [
    "def generate_terrain_volume(size=100, scale=1.0, smooth=3):\n",
    "    \"\"\"\n",
    "    Generate a 3D binary volume (n x n x n) based on a 2D terrain.\n",
    "    Voxels below the terrain surface are filled (value=1), others are empty (value=0).\n",
    "    \"\"\"\n",
    "    # Generate smoothed 2D terrain\n",
    "    x = np.linspace(0, 1, size)\n",
    "    y = np.linspace(0, 1, size)\n",
    "    X, Y = np.meshgrid(x, y)\n",
    "    noise = np.random.rand(size, size)\n",
    "    terrain = gaussian_filter(noise, sigma=smooth) * scale\n",
    "\n",
    "    # Normalize terrain to voxel grid height range\n",
    "    terrain_normalized = (terrain - terrain.min()) / (terrain.max() - terrain.min())\n",
    "    terrain_voxels = (terrain_normalized * (size - 1)).astype(int)\n",
    "\n",
    "    # Create 3D binary volume\n",
    "    volume = np.zeros((size, size, size), dtype=np.uint8)\n",
    "    for i in range(size):\n",
    "        for j in range(size):\n",
    "            h = terrain_voxels[i, j]\n",
    "            volume[i, j, :h+1] = 1  # fill below terrain\n",
    "\n",
    "    return volume, X, Y, terrain\n"
   ]
  },
  {
   "cell_type": "code",
   "execution_count": 3,
   "id": "4e533f49",
   "metadata": {},
   "outputs": [],
   "source": [
    "def fractal_dimension(volume):\n",
    "    # finding all the non-zero pixels\n",
    "    voxels = []\n",
    "    Lx, Ly, Lz = volume.shape\n",
    "    \n",
    "    for i in range(Lx):\n",
    "        for j in range(Ly):\n",
    "            for k in range(Lz):\n",
    "                if volume[i, j, k]>0:\n",
    "                    voxels.append((i, j, k))\n",
    "    \n",
    "   \n",
    "    print(\"Dimensions:\", Lx, Ly, Lz)\n",
    "    voxels = np.array(voxels)\n",
    "    print(\"Number of non-zero voxels:\", voxels.shape[0])\n",
    "    \n",
    "    # computing the fractal dimension\n",
    "    # considering only scales in a logarithmic list\n",
    "    scales=np.logspace(0.01, 1, num=10, endpoint=False, base=2)\n",
    "    Ns=[]\n",
    "    # looping over several scales\n",
    "    for scale in scales:\n",
    "        print (scale)\n",
    "        # computing the histogram\n",
    "        H, edges = np.histogramdd(voxels, bins=(np.arange(0, Lx, scale), np.arange(0, Ly, scale), np.arange(0, Lz, scale)))\n",
    "        Ns.append(np.sum(H>0))\n",
    "    \n",
    "    # linear fit, polynomial of degree 1\n",
    "    coeffs=np.polyfit(np.log(scales), np.log(Ns), 1)\n",
    "    return -coeffs[0], coeffs, scales, Ns"
   ]
  },
  {
   "cell_type": "code",
   "execution_count": null,
   "id": "7eba609f",
   "metadata": {},
   "outputs": [
    {
     "name": "stdout",
     "output_type": "stream",
     "text": [
      "Dimensions: 100 100 100\n",
      "Number of non-zero voxels: 492390\n",
      "1.0069555500567189\n",
      "1.0784804316944516\n",
      "1.1550857845535842\n",
      "1.2371324786871727\n",
      "1.3250070170452075\n",
      "1.4191233562003824\n",
      "1.5199248564015158\n",
      "1.6278863701408692\n",
      "1.7435164790741244\n",
      "1.8673598898306263\n",
      "The Hausdorff dimension is  2.959541899281039\n"
     ]
    }
   ],
   "source": [
    "volume, X, Y, Z = generate_terrain_volume(size=100, scale=3, smooth=10)\n",
    "\n",
    "D, coeffs, scales, Ns = fractal_dimension(volume)\n",
    "print(\"The Hausdorff dimension is \",D)\n",
    "fig = plt.figure(figsize=(10,5))\n",
    "\n",
    "ax1 = fig.add_subplot(121, projection='3d')\n",
    "ax1.plot_surface(X, Y, Z, cmap='terrain', linewidth=0, antialiased=False)\n",
    "ax1.set_title(\"Random Terrain\")\n",
    "ax1.set_xlabel(\"X\")\n",
    "ax1.set_ylabel(\"Y\")\n",
    "ax1.set_zlabel(\"Z\")\n",
    "ax1.set_zlim(1,2)\n",
    "\n",
    "ax2 = fig.add_subplot(122)\n",
    "ax2.plot(np.log(scales), np.polyval(coeffs, np.log(scales)))\n",
    "ax2.plot(np.log(scales),np.log(Ns), 'o', color=\"red\", markerfacecolor=\"none\")\n",
    "ax2.set_title(\"Linear regression\")\n",
    "ax2.set_xlabel(r'log $\\epsilon$')\n",
    "ax2.set_ylabel(r'log N')\n",
    "ax2.grid()\n",
    "\n",
    "plt.tight_layout()\n",
    "plt.show()\n"
   ]
  }
 ],
 "metadata": {
  "kernelspec": {
   "display_name": "base",
   "language": "python",
   "name": "python3"
  },
  "language_info": {
   "codemirror_mode": {
    "name": "ipython",
    "version": 3
   },
   "file_extension": ".py",
   "mimetype": "text/x-python",
   "name": "python",
   "nbconvert_exporter": "python",
   "pygments_lexer": "ipython3",
   "version": "3.12.9"
  }
 },
 "nbformat": 4,
 "nbformat_minor": 5
}
